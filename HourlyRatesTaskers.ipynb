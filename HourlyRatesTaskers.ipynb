{
 "cells": [
  {
   "cell_type": "markdown",
   "metadata": {},
   "source": [
    "DATA ANALYSIS PROJECT"
   ]
  },
  {
   "cell_type": "code",
   "execution_count": 65,
   "metadata": {},
   "outputs": [],
   "source": [
    "#Importing Libraries \n",
    "import pandas as pd \n",
    "import matplotlib.pyplot as plt"
   ]
  },
  {
   "cell_type": "code",
   "execution_count": 66,
   "metadata": {},
   "outputs": [],
   "source": [
    "df = pd.read_csv('sample.csv')"
   ]
  },
  {
   "cell_type": "code",
   "execution_count": 67,
   "metadata": {
    "scrolled": true
   },
   "outputs": [
    {
     "data": {
      "text/html": [
       "<div>\n",
       "<style scoped>\n",
       "    .dataframe tbody tr th:only-of-type {\n",
       "        vertical-align: middle;\n",
       "    }\n",
       "\n",
       "    .dataframe tbody tr th {\n",
       "        vertical-align: top;\n",
       "    }\n",
       "\n",
       "    .dataframe thead th {\n",
       "        text-align: right;\n",
       "    }\n",
       "</style>\n",
       "<table border=\"1\" class=\"dataframe\">\n",
       "  <thead>\n",
       "    <tr style=\"text-align: right;\">\n",
       "      <th></th>\n",
       "      <th>recommendation_id</th>\n",
       "      <th>created_at</th>\n",
       "      <th>tasker_id</th>\n",
       "      <th>position</th>\n",
       "      <th>hourly_rate</th>\n",
       "      <th>num_completed_tasks</th>\n",
       "      <th>hired</th>\n",
       "      <th>category</th>\n",
       "    </tr>\n",
       "  </thead>\n",
       "  <tbody>\n",
       "    <tr>\n",
       "      <th>0</th>\n",
       "      <td>0-0-70cf97d7-37af-4834-901c-ce3ad4893b8c</td>\n",
       "      <td>2017-09-01 00:32:25</td>\n",
       "      <td>1009185352</td>\n",
       "      <td>1</td>\n",
       "      <td>38</td>\n",
       "      <td>151</td>\n",
       "      <td>0</td>\n",
       "      <td>Furniture Assembly</td>\n",
       "    </tr>\n",
       "    <tr>\n",
       "      <th>1</th>\n",
       "      <td>0-0-70cf97d7-37af-4834-901c-ce3ad4893b8c</td>\n",
       "      <td>2017-09-01 00:32:25</td>\n",
       "      <td>1006892359</td>\n",
       "      <td>2</td>\n",
       "      <td>40</td>\n",
       "      <td>193</td>\n",
       "      <td>0</td>\n",
       "      <td>Furniture Assembly</td>\n",
       "    </tr>\n",
       "    <tr>\n",
       "      <th>2</th>\n",
       "      <td>0-0-70cf97d7-37af-4834-901c-ce3ad4893b8c</td>\n",
       "      <td>2017-09-01 00:32:25</td>\n",
       "      <td>1012023956</td>\n",
       "      <td>3</td>\n",
       "      <td>28</td>\n",
       "      <td>0</td>\n",
       "      <td>0</td>\n",
       "      <td>Furniture Assembly</td>\n",
       "    </tr>\n",
       "    <tr>\n",
       "      <th>3</th>\n",
       "      <td>0-0-70cf97d7-37af-4834-901c-ce3ad4893b8c</td>\n",
       "      <td>2017-09-01 00:32:25</td>\n",
       "      <td>1009733517</td>\n",
       "      <td>4</td>\n",
       "      <td>43</td>\n",
       "      <td>303</td>\n",
       "      <td>0</td>\n",
       "      <td>Furniture Assembly</td>\n",
       "    </tr>\n",
       "    <tr>\n",
       "      <th>4</th>\n",
       "      <td>0-0-70cf97d7-37af-4834-901c-ce3ad4893b8c</td>\n",
       "      <td>2017-09-01 00:32:25</td>\n",
       "      <td>1013579273</td>\n",
       "      <td>5</td>\n",
       "      <td>29</td>\n",
       "      <td>39</td>\n",
       "      <td>0</td>\n",
       "      <td>Furniture Assembly</td>\n",
       "    </tr>\n",
       "  </tbody>\n",
       "</table>\n",
       "</div>"
      ],
      "text/plain": [
       "                          recommendation_id           created_at   tasker_id  \\\n",
       "0  0-0-70cf97d7-37af-4834-901c-ce3ad4893b8c  2017-09-01 00:32:25  1009185352   \n",
       "1  0-0-70cf97d7-37af-4834-901c-ce3ad4893b8c  2017-09-01 00:32:25  1006892359   \n",
       "2  0-0-70cf97d7-37af-4834-901c-ce3ad4893b8c  2017-09-01 00:32:25  1012023956   \n",
       "3  0-0-70cf97d7-37af-4834-901c-ce3ad4893b8c  2017-09-01 00:32:25  1009733517   \n",
       "4  0-0-70cf97d7-37af-4834-901c-ce3ad4893b8c  2017-09-01 00:32:25  1013579273   \n",
       "\n",
       "   position  hourly_rate  num_completed_tasks  hired            category  \n",
       "0         1           38                  151      0  Furniture Assembly  \n",
       "1         2           40                  193      0  Furniture Assembly  \n",
       "2         3           28                    0      0  Furniture Assembly  \n",
       "3         4           43                  303      0  Furniture Assembly  \n",
       "4         5           29                   39      0  Furniture Assembly  "
      ]
     },
     "execution_count": 67,
     "metadata": {},
     "output_type": "execute_result"
    }
   ],
   "source": [
    "# Quick look into the dataframe: df\n",
    "df.head()"
   ]
  },
  {
   "cell_type": "code",
   "execution_count": 68,
   "metadata": {},
   "outputs": [
    {
     "name": "stdout",
     "output_type": "stream",
     "text": [
      "<class 'pandas.core.frame.DataFrame'>\n",
      "RangeIndex: 30000 entries, 0 to 29999\n",
      "Data columns (total 8 columns):\n",
      "recommendation_id      30000 non-null object\n",
      "created_at             30000 non-null object\n",
      "tasker_id              30000 non-null int64\n",
      "position               30000 non-null int64\n",
      "hourly_rate            30000 non-null int64\n",
      "num_completed_tasks    30000 non-null int64\n",
      "hired                  30000 non-null int64\n",
      "category               30000 non-null object\n",
      "dtypes: int64(5), object(3)\n",
      "memory usage: 1.8+ MB\n"
     ]
    }
   ],
   "source": [
    "#Information on the dataframe\n",
    "df.info()"
   ]
  },
  {
   "cell_type": "markdown",
   "metadata": {},
   "source": [
    "### Data Analysis"
   ]
  },
  {
   "cell_type": "markdown",
   "metadata": {},
   "source": [
    " 1.) How many recommendation sets are in this data sample?"
   ]
  },
  {
   "cell_type": "markdown",
   "metadata": {},
   "source": [
    "    To answer this question, let us find the unique recommendation ids in the data sample. "
   ]
  },
  {
   "cell_type": "code",
   "execution_count": 69,
   "metadata": {},
   "outputs": [
    {
     "data": {
      "text/plain": [
       "2100"
      ]
     },
     "execution_count": 69,
     "metadata": {},
     "output_type": "execute_result"
    }
   ],
   "source": [
    "df.recommendation_id.value_counts().count()"
   ]
  },
  {
   "cell_type": "markdown",
   "metadata": {},
   "source": [
    "There are 2100 recommendation sets in the given data sample."
   ]
  },
  {
   "cell_type": "markdown",
   "metadata": {},
   "source": [
    " 2.) Each recommendation set shows from 1 to 15 Taskers, what is:\n",
    "  - average number of Taskers shown\n",
    "  - median  number of Taskers shown"
   ]
  },
  {
   "cell_type": "markdown",
   "metadata": {},
   "source": [
    "    To determine the average number of Taskers, let us calculate the mean using the mean function. \n",
    "    To determine the median number of taskers let us calculate the median using the median function."
   ]
  },
  {
   "cell_type": "code",
   "execution_count": 70,
   "metadata": {},
   "outputs": [
    {
     "data": {
      "text/plain": [
       "14.285714285714286"
      ]
     },
     "execution_count": 70,
     "metadata": {},
     "output_type": "execute_result"
    }
   ],
   "source": [
    "df.recommendation_id.value_counts().mean()"
   ]
  },
  {
   "cell_type": "code",
   "execution_count": 71,
   "metadata": {},
   "outputs": [
    {
     "data": {
      "text/plain": [
       "15.0"
      ]
     },
     "execution_count": 71,
     "metadata": {},
     "output_type": "execute_result"
    }
   ],
   "source": [
    "df.recommendation_id.value_counts().median()"
   ]
  },
  {
   "cell_type": "markdown",
   "metadata": {},
   "source": [
    "- The average number of Taskers shown in each recommendation set is 14.29\n",
    "- The median number of Taksers shown in each recommendation set is 15.0"
   ]
  },
  {
   "cell_type": "markdown",
   "metadata": {},
   "source": [
    "3.) How many total unique Taskers are there in this data sample?"
   ]
  },
  {
   "cell_type": "markdown",
   "metadata": {},
   "source": [
    "    To answer this question, let us determine the unique Taskers using the value count and count function."
   ]
  },
  {
   "cell_type": "code",
   "execution_count": 72,
   "metadata": {},
   "outputs": [
    {
     "data": {
      "text/plain": [
       "830"
      ]
     },
     "execution_count": 72,
     "metadata": {},
     "output_type": "execute_result"
    }
   ],
   "source": [
    "df.tasker_id.value_counts().count()"
   ]
  },
  {
   "cell_type": "markdown",
   "metadata": {},
   "source": [
    "There are 830 unique Taskers in the given data sample."
   ]
  },
  {
   "cell_type": "markdown",
   "metadata": {},
   "source": [
    "4.) Which Tasker has been shown the most? Which Tasker has been shown the least?"
   ]
  },
  {
   "cell_type": "code",
   "execution_count": 73,
   "metadata": {},
   "outputs": [],
   "source": [
    "shown_taskers = df.tasker_id.value_counts()"
   ]
  },
  {
   "cell_type": "code",
   "execution_count": 74,
   "metadata": {},
   "outputs": [
    {
     "data": {
      "text/plain": [
       "1014508755    608\n",
       "Name: tasker_id, dtype: int64"
      ]
     },
     "execution_count": 74,
     "metadata": {},
     "output_type": "execute_result"
    }
   ],
   "source": [
    "shown_taskers[shown_taskers == shown_taskers.max()]"
   ]
  },
  {
   "cell_type": "markdown",
   "metadata": {},
   "source": [
    "- The tasker_id: 1014508755 has been shown the most."
   ]
  },
  {
   "cell_type": "code",
   "execution_count": 75,
   "metadata": {},
   "outputs": [
    {
     "data": {
      "text/plain": [
       "1013573988    1\n",
       "1009994950    1\n",
       "1012386513    1\n",
       "1007383273    1\n",
       "1014926743    1\n",
       "1009112003    1\n",
       "1010009736    1\n",
       "1014310300    1\n",
       "1012678504    1\n",
       "1012364558    1\n",
       "1012166729    1\n",
       "1010021990    1\n",
       "1013573125    1\n",
       "1011901532    1\n",
       "1011949117    1\n",
       "1010681878    1\n",
       "1011968845    1\n",
       "1013830691    1\n",
       "1012348656    1\n",
       "1009871933    1\n",
       "1012289475    1\n",
       "1006853970    1\n",
       "1013934937    1\n",
       "1006690425    1\n",
       "1008469117    1\n",
       "1009641175    1\n",
       "1014547884    1\n",
       "1010779242    1\n",
       "1008604368    1\n",
       "1009603880    1\n",
       "             ..\n",
       "1009772528    1\n",
       "1014478773    1\n",
       "1009754999    1\n",
       "1008919567    1\n",
       "1008368716    1\n",
       "1013854788    1\n",
       "1013656032    1\n",
       "1013731883    1\n",
       "1013362004    1\n",
       "1010042971    1\n",
       "1007246122    1\n",
       "1011952623    1\n",
       "1009547227    1\n",
       "1008033678    1\n",
       "1012805440    1\n",
       "1007472083    1\n",
       "1009618500    1\n",
       "1011985968    1\n",
       "1009702351    1\n",
       "1007638825    1\n",
       "1009712638    1\n",
       "1007480912    1\n",
       "1008870833    1\n",
       "1010640007    1\n",
       "1014593279    1\n",
       "1014086818    1\n",
       "1008474216    1\n",
       "1012151299    1\n",
       "1014439502    1\n",
       "1011972750    1\n",
       "Name: tasker_id, Length: 68, dtype: int64"
      ]
     },
     "execution_count": 75,
     "metadata": {},
     "output_type": "execute_result"
    }
   ],
   "source": [
    "shown_taskers[shown_taskers == shown_taskers.min()]"
   ]
  },
  {
   "cell_type": "markdown",
   "metadata": {},
   "source": [
    "- 68 tasker_ids listed above have been shown least number of times. "
   ]
  },
  {
   "cell_type": "markdown",
   "metadata": {},
   "source": [
    "5.) Which Tasker has been hired the most? Which Tasker has been hired the least?"
   ]
  },
  {
   "cell_type": "code",
   "execution_count": 76,
   "metadata": {},
   "outputs": [],
   "source": [
    "hired =df[df['hired'] ==1]['tasker_id'].value_counts()"
   ]
  },
  {
   "cell_type": "code",
   "execution_count": 77,
   "metadata": {},
   "outputs": [
    {
     "data": {
      "text/plain": [
       "1012043028    59\n",
       "Name: tasker_id, dtype: int64"
      ]
     },
     "execution_count": 77,
     "metadata": {},
     "output_type": "execute_result"
    }
   ],
   "source": [
    "hired[hired == hired.max()]"
   ]
  },
  {
   "cell_type": "markdown",
   "metadata": {},
   "source": [
    "- The tasker_id: 1012043028 has been hired the most."
   ]
  },
  {
   "cell_type": "code",
   "execution_count": 78,
   "metadata": {},
   "outputs": [
    {
     "data": {
      "text/plain": [
       "1009393887    1\n",
       "1008966829    1\n",
       "1013745838    1\n",
       "1013434046    1\n",
       "1007898815    1\n",
       "1010008242    1\n",
       "1007146669    1\n",
       "1012719266    1\n",
       "1013305557    1\n",
       "1009729754    1\n",
       "1014740602    1\n",
       "1014832736    1\n",
       "1013034579    1\n",
       "1009848016    1\n",
       "1008111352    1\n",
       "1008903001    1\n",
       "1009299585    1\n",
       "1008037901    1\n",
       "1014251534    1\n",
       "1008782548    1\n",
       "1010752503    1\n",
       "1014478773    1\n",
       "1014212647    1\n",
       "1009733517    1\n",
       "1012170634    1\n",
       "1009638159    1\n",
       "1008162664    1\n",
       "1008762938    1\n",
       "1010578972    1\n",
       "1009348455    1\n",
       "             ..\n",
       "1009638573    1\n",
       "1009703547    1\n",
       "1013443125    1\n",
       "1009192067    1\n",
       "1009865854    1\n",
       "1009693303    1\n",
       "1008724560    1\n",
       "1014629676    1\n",
       "1010801075    1\n",
       "1009751605    1\n",
       "1009917428    1\n",
       "1007955495    1\n",
       "1014157578    1\n",
       "1008887321    1\n",
       "1013553854    1\n",
       "1013852438    1\n",
       "1013696131    1\n",
       "1009606144    1\n",
       "1008862713    1\n",
       "1009966564    1\n",
       "1011920226    1\n",
       "1007702812    1\n",
       "1008890855    1\n",
       "1010438496    1\n",
       "1008930827    1\n",
       "1008008634    1\n",
       "1008473496    1\n",
       "1012229493    1\n",
       "1013865107    1\n",
       "1015020347    1\n",
       "Name: tasker_id, Length: 79, dtype: int64"
      ]
     },
     "execution_count": 78,
     "metadata": {},
     "output_type": "execute_result"
    }
   ],
   "source": [
    "hired[hired == hired.min()]"
   ]
  },
  {
   "cell_type": "markdown",
   "metadata": {},
   "source": [
    "- 79 takser_ids listed above have been hired the least."
   ]
  },
  {
   "cell_type": "markdown",
   "metadata": {},
   "source": [
    "6.) If we define the \"Tasker conversion rate\" as the number of times a\n",
    " Tasker has been hired, out of the number of times the Tasker has\n",
    " been shown, how many Taskers have a conversion rate of 100%"
   ]
  },
  {
   "cell_type": "code",
   "execution_count": 79,
   "metadata": {},
   "outputs": [],
   "source": [
    "a = df.tasker_id.value_counts().to_frame()\n",
    "a.columns = ['num_times_shown']"
   ]
  },
  {
   "cell_type": "code",
   "execution_count": 80,
   "metadata": {},
   "outputs": [],
   "source": [
    "b = df.groupby('tasker_id')['hired'].sum().to_frame()\n",
    "b.columns =['num_times_hired']"
   ]
  },
  {
   "cell_type": "code",
   "execution_count": 81,
   "metadata": {},
   "outputs": [],
   "source": [
    "conversion_df=a.join(b)"
   ]
  },
  {
   "cell_type": "code",
   "execution_count": 82,
   "metadata": {},
   "outputs": [],
   "source": [
    "conversion_df['rate'] = (conversion_df['num_times_hired']/ conversion_df['num_times_shown'])*100"
   ]
  },
  {
   "cell_type": "code",
   "execution_count": 83,
   "metadata": {},
   "outputs": [
    {
     "data": {
      "text/html": [
       "<div>\n",
       "<style scoped>\n",
       "    .dataframe tbody tr th:only-of-type {\n",
       "        vertical-align: middle;\n",
       "    }\n",
       "\n",
       "    .dataframe tbody tr th {\n",
       "        vertical-align: top;\n",
       "    }\n",
       "\n",
       "    .dataframe thead th {\n",
       "        text-align: right;\n",
       "    }\n",
       "</style>\n",
       "<table border=\"1\" class=\"dataframe\">\n",
       "  <thead>\n",
       "    <tr style=\"text-align: right;\">\n",
       "      <th></th>\n",
       "      <th>num_times_shown</th>\n",
       "      <th>num_times_hired</th>\n",
       "      <th>rate</th>\n",
       "    </tr>\n",
       "  </thead>\n",
       "  <tbody>\n",
       "    <tr>\n",
       "      <th>1008861741</th>\n",
       "      <td>9</td>\n",
       "      <td>9</td>\n",
       "      <td>100.0</td>\n",
       "    </tr>\n",
       "    <tr>\n",
       "      <th>1008094420</th>\n",
       "      <td>2</td>\n",
       "      <td>2</td>\n",
       "      <td>100.0</td>\n",
       "    </tr>\n",
       "    <tr>\n",
       "      <th>1012369686</th>\n",
       "      <td>2</td>\n",
       "      <td>2</td>\n",
       "      <td>100.0</td>\n",
       "    </tr>\n",
       "    <tr>\n",
       "      <th>1014478773</th>\n",
       "      <td>1</td>\n",
       "      <td>1</td>\n",
       "      <td>100.0</td>\n",
       "    </tr>\n",
       "    <tr>\n",
       "      <th>1011985968</th>\n",
       "      <td>1</td>\n",
       "      <td>1</td>\n",
       "      <td>100.0</td>\n",
       "    </tr>\n",
       "    <tr>\n",
       "      <th>1007480912</th>\n",
       "      <td>1</td>\n",
       "      <td>1</td>\n",
       "      <td>100.0</td>\n",
       "    </tr>\n",
       "  </tbody>\n",
       "</table>\n",
       "</div>"
      ],
      "text/plain": [
       "            num_times_shown  num_times_hired   rate\n",
       "1008861741                9                9  100.0\n",
       "1008094420                2                2  100.0\n",
       "1012369686                2                2  100.0\n",
       "1014478773                1                1  100.0\n",
       "1011985968                1                1  100.0\n",
       "1007480912                1                1  100.0"
      ]
     },
     "execution_count": 83,
     "metadata": {},
     "output_type": "execute_result"
    }
   ],
   "source": [
    "conversion_df[conversion_df['rate'] == 100]"
   ]
  },
  {
   "cell_type": "code",
   "execution_count": 84,
   "metadata": {},
   "outputs": [
    {
     "data": {
      "text/plain": [
       "num_times_shown    6\n",
       "num_times_hired    6\n",
       "rate               6\n",
       "dtype: int64"
      ]
     },
     "execution_count": 84,
     "metadata": {},
     "output_type": "execute_result"
    }
   ],
   "source": [
    "conversion_df[conversion_df['rate'] == 100].count()"
   ]
  },
  {
   "cell_type": "markdown",
   "metadata": {},
   "source": [
    "The number of taksers who have a 100% conversion rate is 6."
   ]
  },
  {
   "cell_type": "markdown",
   "metadata": {},
   "source": [
    "7.) Would it be possible for all Taskers to have a conversion rate of 100%\n",
    "    Please explain your reasoning."
   ]
  },
  {
   "cell_type": "markdown",
   "metadata": {},
   "source": [
    "No, it is not possible for all Taksers to have a conversion rate of 100% because a \"recommendation\" is a group \n",
    "of Taskers (ranging from 1 to 15) from which the Client can choose ONE to book or rather only 1 tasker out of a set of recommendations can be hired. In this way, there will always be few tasksers who not be hired. \n",
    "\n",
    "For all Taskers to have a conversion rate of 100%, then only one taskers must be recommended for a task and the takser must be hired. \n",
    "\n"
   ]
  },
  {
   "cell_type": "markdown",
   "metadata": {},
   "source": [
    "8.) For each category, what is the average position of the Tasker who is hired?"
   ]
  },
  {
   "cell_type": "code",
   "execution_count": 85,
   "metadata": {},
   "outputs": [
    {
     "data": {
      "text/plain": [
       "category\n",
       "Furniture Assembly    3.611888\n",
       "Mounting              4.596085\n",
       "Moving Help           4.145359\n",
       "Name: position, dtype: float64"
      ]
     },
     "execution_count": 85,
     "metadata": {},
     "output_type": "execute_result"
    }
   ],
   "source": [
    "df[df['hired']==1].groupby('category')['position'].mean()"
   ]
  },
  {
   "cell_type": "markdown",
   "metadata": {},
   "source": [
    "    Since the position cannot be a decimal value. Lets take the floor value."
   ]
  },
  {
   "cell_type": "code",
   "execution_count": 86,
   "metadata": {},
   "outputs": [],
   "source": [
    "import numpy as np"
   ]
  },
  {
   "cell_type": "code",
   "execution_count": 87,
   "metadata": {},
   "outputs": [
    {
     "data": {
      "text/plain": [
       "category\n",
       "Furniture Assembly    3.0\n",
       "Mounting              4.0\n",
       "Moving Help           4.0\n",
       "Name: position, dtype: float64"
      ]
     },
     "execution_count": 87,
     "metadata": {},
     "output_type": "execute_result"
    }
   ],
   "source": [
    "np.floor(df[df['hired']==1].groupby('category')['position'].mean())"
   ]
  },
  {
   "cell_type": "markdown",
   "metadata": {},
   "source": [
    "- The average position of the Tasker who is hired for Furniture Assembly is 3\n",
    "- The average position of the Tasker who is hired for Mounting is 4\n",
    "- The average position of the Tasker who is hired for Moving help is 4"
   ]
  },
  {
   "cell_type": "markdown",
   "metadata": {},
   "source": [
    "9.) For each category, what is the average hourly rate and average number of completed tasks for the Taskers who are hired?"
   ]
  },
  {
   "cell_type": "code",
   "execution_count": 88,
   "metadata": {},
   "outputs": [
    {
     "data": {
      "text/html": [
       "<div>\n",
       "<style scoped>\n",
       "    .dataframe tbody tr th:only-of-type {\n",
       "        vertical-align: middle;\n",
       "    }\n",
       "\n",
       "    .dataframe tbody tr th {\n",
       "        vertical-align: top;\n",
       "    }\n",
       "\n",
       "    .dataframe thead th {\n",
       "        text-align: right;\n",
       "    }\n",
       "</style>\n",
       "<table border=\"1\" class=\"dataframe\">\n",
       "  <thead>\n",
       "    <tr style=\"text-align: right;\">\n",
       "      <th></th>\n",
       "      <th>hourly_rate</th>\n",
       "      <th>num_completed_tasks</th>\n",
       "    </tr>\n",
       "    <tr>\n",
       "      <th>category</th>\n",
       "      <th></th>\n",
       "      <th></th>\n",
       "    </tr>\n",
       "  </thead>\n",
       "  <tbody>\n",
       "    <tr>\n",
       "      <th>Furniture Assembly</th>\n",
       "      <td>38.701049</td>\n",
       "      <td>249.020979</td>\n",
       "    </tr>\n",
       "    <tr>\n",
       "      <th>Mounting</th>\n",
       "      <td>50.154804</td>\n",
       "      <td>284.096085</td>\n",
       "    </tr>\n",
       "    <tr>\n",
       "      <th>Moving Help</th>\n",
       "      <td>63.012259</td>\n",
       "      <td>273.882662</td>\n",
       "    </tr>\n",
       "  </tbody>\n",
       "</table>\n",
       "</div>"
      ],
      "text/plain": [
       "                    hourly_rate  num_completed_tasks\n",
       "category                                            \n",
       "Furniture Assembly    38.701049           249.020979\n",
       "Mounting              50.154804           284.096085\n",
       "Moving Help           63.012259           273.882662"
      ]
     },
     "execution_count": 88,
     "metadata": {},
     "output_type": "execute_result"
    }
   ],
   "source": [
    "market_data=df[df['hired']==1].groupby('category')['hourly_rate', 'num_completed_tasks'].mean()\n",
    "market_data"
   ]
  },
  {
   "cell_type": "markdown",
   "metadata": {},
   "source": [
    "    Since the number of completed tasks cannot be a decimal value. Lets take the floor value."
   ]
  },
  {
   "cell_type": "code",
   "execution_count": 89,
   "metadata": {},
   "outputs": [
    {
     "data": {
      "text/html": [
       "<div>\n",
       "<style scoped>\n",
       "    .dataframe tbody tr th:only-of-type {\n",
       "        vertical-align: middle;\n",
       "    }\n",
       "\n",
       "    .dataframe tbody tr th {\n",
       "        vertical-align: top;\n",
       "    }\n",
       "\n",
       "    .dataframe thead th {\n",
       "        text-align: right;\n",
       "    }\n",
       "</style>\n",
       "<table border=\"1\" class=\"dataframe\">\n",
       "  <thead>\n",
       "    <tr style=\"text-align: right;\">\n",
       "      <th></th>\n",
       "      <th>hourly_rate</th>\n",
       "      <th>num_completed_tasks</th>\n",
       "    </tr>\n",
       "    <tr>\n",
       "      <th>category</th>\n",
       "      <th></th>\n",
       "      <th></th>\n",
       "    </tr>\n",
       "  </thead>\n",
       "  <tbody>\n",
       "    <tr>\n",
       "      <th>Furniture Assembly</th>\n",
       "      <td>38.701049</td>\n",
       "      <td>249.0</td>\n",
       "    </tr>\n",
       "    <tr>\n",
       "      <th>Mounting</th>\n",
       "      <td>50.154804</td>\n",
       "      <td>284.0</td>\n",
       "    </tr>\n",
       "    <tr>\n",
       "      <th>Moving Help</th>\n",
       "      <td>63.012259</td>\n",
       "      <td>273.0</td>\n",
       "    </tr>\n",
       "  </tbody>\n",
       "</table>\n",
       "</div>"
      ],
      "text/plain": [
       "                    hourly_rate  num_completed_tasks\n",
       "category                                            \n",
       "Furniture Assembly    38.701049                249.0\n",
       "Mounting              50.154804                284.0\n",
       "Moving Help           63.012259                273.0"
      ]
     },
     "execution_count": 89,
     "metadata": {},
     "output_type": "execute_result"
    }
   ],
   "source": [
    "market_data['num_completed_tasks'] = np.floor(market_data['num_completed_tasks'])\n",
    "market_data"
   ]
  },
  {
   "cell_type": "markdown",
   "metadata": {},
   "source": [
    "The above dataframe show the average hourly rate and average number of completed tasks for the Taskers who were hired in each catgeory."
   ]
  },
  {
   "cell_type": "markdown",
   "metadata": {},
   "source": [
    "10.) Based on the previous, how would you approach the question of: How can we use market data to suggest hourly rates to Taskers that would maximize their opportunity to be hired? Please describe in detail, with code and formulas that support your model.\n"
   ]
  },
  {
   "cell_type": "markdown",
   "metadata": {},
   "source": [
    "    Idea/Concept:  I have based my solution on the idea that taskers who were hired exhibit a normal behavior \n",
    "    in each category. All tasksers who are a part of this distribution will have an average hourly rate \n",
    "    as described in the market data Data Frame.To maximize the opportunity to be hired \n",
    "    I will suggest hourly rates for taskers that are a part of the normal distribution in each category."
   ]
  },
  {
   "cell_type": "markdown",
   "metadata": {},
   "source": [
    "    Approach: I have used the z-score method to detect if the z-score value of the hourly rate of a tasker, who is not hired, is greater than 3 or less than -3. If this condition is satisfied, then that tasker would be considered as an outlier to the distribution. So, this particular takser's hourly rate would be reassigned to the average hourly rate of takser who is hired for a particular catgeory."
   ]
  },
  {
   "cell_type": "markdown",
   "metadata": {},
   "source": [
    "    Formula to find the z-score: z = (X - mean)/(Standard deviation) \n",
    "    - where X is the hourly rate of the tasker\n",
    "    - mean is the mean of the taskers hourly rate of each category\n",
    "    - Standard deviation is the standard deviation of the hourly rate of each category. \n",
    "    \n",
    "    Condition for an outlier: abs(z) > 3 "
   ]
  },
  {
   "cell_type": "markdown",
   "metadata": {},
   "source": [
    "    Lets calculate the standard deviation for takser's hourly rate, which will be used in z-score calculation. "
   ]
  },
  {
   "cell_type": "code",
   "execution_count": 90,
   "metadata": {},
   "outputs": [
    {
     "data": {
      "text/plain": [
       "category\n",
       "Furniture Assembly    13.514984\n",
       "Mounting              10.043536\n",
       "Moving Help           29.959649\n",
       "Name: hourly_rate, dtype: float64"
      ]
     },
     "execution_count": 90,
     "metadata": {},
     "output_type": "execute_result"
    }
   ],
   "source": [
    "df[df['hired']==1].groupby('category')['hourly_rate'].std()"
   ]
  },
  {
   "cell_type": "markdown",
   "metadata": {},
   "source": [
    "    Let us now implement the approach discussed above."
   ]
  },
  {
   "cell_type": "code",
   "execution_count": 91,
   "metadata": {},
   "outputs": [],
   "source": [
    "def hourly_rate_for_optimal_hiring(hired, category, hourly_rate):\n",
    "    z= 0 # here we define the Value of z score, set to 0 intially.   \n",
    "    if hired == 0: # Here We will consider tasker who have not been hired. \n",
    "        # Next, For taskers not hired, we will calculate z score of hourly rate for each category. \n",
    "        if category == 'Furniture Assembly':\n",
    "            z = (hourly_rate - 38.701049) / 13.514984\n",
    "            # if z-score of taskers hourly rate is greater than 3 or less than -3 then, \n",
    "            # replace the score by the mean of the category hourly rate. \n",
    "            if abs(z) > 3: \n",
    "                hourly_rate = 38.701049\n",
    "        elif category == 'Mounting':\n",
    "            z = (hourly_rate - 50.154804) / 10.043536\n",
    "            if abs(z) > 3: \n",
    "                hourly_rate = 50.154804\n",
    "        else:\n",
    "            z = (hourly_rate - 63.012259) / 29.959649\n",
    "            if abs(z) > 3: \n",
    "                hourly_rate = 63.012259\n",
    "# If the tasker has been hired then that was his \n",
    "#optimal hourly rate, so we will keep it the same. \n",
    "    else:\n",
    "        hourly_rate = hourly_rate\n",
    "                \n",
    "    return hourly_rate"
   ]
  },
  {
   "cell_type": "code",
   "execution_count": 92,
   "metadata": {},
   "outputs": [],
   "source": [
    "hourly_rate_optimal_hiring = []"
   ]
  },
  {
   "cell_type": "code",
   "execution_count": 93,
   "metadata": {},
   "outputs": [],
   "source": [
    "# Lets, apply the function to our data. and store the result in a list.  \n",
    "for index, row  in df.iterrows():\n",
    "    hourly_rate_optimal_hiring.append(hourly_rate_for_optimal_hiring(row['hired'], row['category'], row['hourly_rate']))\n",
    "    "
   ]
  },
  {
   "cell_type": "code",
   "execution_count": 94,
   "metadata": {},
   "outputs": [],
   "source": [
    "# Lets, create a new column in our data frame 'df' which suggests the optimal hourly rate. \n",
    "df['optimum_hourly_rate'] = hourly_rate_optimal_hiring"
   ]
  },
  {
   "cell_type": "code",
   "execution_count": 95,
   "metadata": {},
   "outputs": [
    {
     "data": {
      "text/html": [
       "<div>\n",
       "<style scoped>\n",
       "    .dataframe tbody tr th:only-of-type {\n",
       "        vertical-align: middle;\n",
       "    }\n",
       "\n",
       "    .dataframe tbody tr th {\n",
       "        vertical-align: top;\n",
       "    }\n",
       "\n",
       "    .dataframe thead th {\n",
       "        text-align: right;\n",
       "    }\n",
       "</style>\n",
       "<table border=\"1\" class=\"dataframe\">\n",
       "  <thead>\n",
       "    <tr style=\"text-align: right;\">\n",
       "      <th></th>\n",
       "      <th>recommendation_id</th>\n",
       "      <th>created_at</th>\n",
       "      <th>tasker_id</th>\n",
       "      <th>position</th>\n",
       "      <th>hourly_rate</th>\n",
       "      <th>num_completed_tasks</th>\n",
       "      <th>hired</th>\n",
       "      <th>category</th>\n",
       "      <th>optimum_hourly_rate</th>\n",
       "    </tr>\n",
       "  </thead>\n",
       "  <tbody>\n",
       "    <tr>\n",
       "      <th>0</th>\n",
       "      <td>0-0-70cf97d7-37af-4834-901c-ce3ad4893b8c</td>\n",
       "      <td>2017-09-01 00:32:25</td>\n",
       "      <td>1009185352</td>\n",
       "      <td>1</td>\n",
       "      <td>38</td>\n",
       "      <td>151</td>\n",
       "      <td>0</td>\n",
       "      <td>Furniture Assembly</td>\n",
       "      <td>38.0</td>\n",
       "    </tr>\n",
       "    <tr>\n",
       "      <th>1</th>\n",
       "      <td>0-0-70cf97d7-37af-4834-901c-ce3ad4893b8c</td>\n",
       "      <td>2017-09-01 00:32:25</td>\n",
       "      <td>1006892359</td>\n",
       "      <td>2</td>\n",
       "      <td>40</td>\n",
       "      <td>193</td>\n",
       "      <td>0</td>\n",
       "      <td>Furniture Assembly</td>\n",
       "      <td>40.0</td>\n",
       "    </tr>\n",
       "    <tr>\n",
       "      <th>2</th>\n",
       "      <td>0-0-70cf97d7-37af-4834-901c-ce3ad4893b8c</td>\n",
       "      <td>2017-09-01 00:32:25</td>\n",
       "      <td>1012023956</td>\n",
       "      <td>3</td>\n",
       "      <td>28</td>\n",
       "      <td>0</td>\n",
       "      <td>0</td>\n",
       "      <td>Furniture Assembly</td>\n",
       "      <td>28.0</td>\n",
       "    </tr>\n",
       "    <tr>\n",
       "      <th>3</th>\n",
       "      <td>0-0-70cf97d7-37af-4834-901c-ce3ad4893b8c</td>\n",
       "      <td>2017-09-01 00:32:25</td>\n",
       "      <td>1009733517</td>\n",
       "      <td>4</td>\n",
       "      <td>43</td>\n",
       "      <td>303</td>\n",
       "      <td>0</td>\n",
       "      <td>Furniture Assembly</td>\n",
       "      <td>43.0</td>\n",
       "    </tr>\n",
       "    <tr>\n",
       "      <th>4</th>\n",
       "      <td>0-0-70cf97d7-37af-4834-901c-ce3ad4893b8c</td>\n",
       "      <td>2017-09-01 00:32:25</td>\n",
       "      <td>1013579273</td>\n",
       "      <td>5</td>\n",
       "      <td>29</td>\n",
       "      <td>39</td>\n",
       "      <td>0</td>\n",
       "      <td>Furniture Assembly</td>\n",
       "      <td>29.0</td>\n",
       "    </tr>\n",
       "  </tbody>\n",
       "</table>\n",
       "</div>"
      ],
      "text/plain": [
       "                          recommendation_id           created_at   tasker_id  \\\n",
       "0  0-0-70cf97d7-37af-4834-901c-ce3ad4893b8c  2017-09-01 00:32:25  1009185352   \n",
       "1  0-0-70cf97d7-37af-4834-901c-ce3ad4893b8c  2017-09-01 00:32:25  1006892359   \n",
       "2  0-0-70cf97d7-37af-4834-901c-ce3ad4893b8c  2017-09-01 00:32:25  1012023956   \n",
       "3  0-0-70cf97d7-37af-4834-901c-ce3ad4893b8c  2017-09-01 00:32:25  1009733517   \n",
       "4  0-0-70cf97d7-37af-4834-901c-ce3ad4893b8c  2017-09-01 00:32:25  1013579273   \n",
       "\n",
       "   position  hourly_rate  num_completed_tasks  hired            category  \\\n",
       "0         1           38                  151      0  Furniture Assembly   \n",
       "1         2           40                  193      0  Furniture Assembly   \n",
       "2         3           28                    0      0  Furniture Assembly   \n",
       "3         4           43                  303      0  Furniture Assembly   \n",
       "4         5           29                   39      0  Furniture Assembly   \n",
       "\n",
       "   optimum_hourly_rate  \n",
       "0                 38.0  \n",
       "1                 40.0  \n",
       "2                 28.0  \n",
       "3                 43.0  \n",
       "4                 29.0  "
      ]
     },
     "execution_count": 95,
     "metadata": {},
     "output_type": "execute_result"
    }
   ],
   "source": [
    "df.head()"
   ]
  },
  {
   "cell_type": "code",
   "execution_count": null,
   "metadata": {},
   "outputs": [],
   "source": []
  }
 ],
 "metadata": {
  "kernelspec": {
   "display_name": "Python 2",
   "language": "python",
   "name": "python2"
  },
  "language_info": {
   "codemirror_mode": {
    "name": "ipython",
    "version": 2
   },
   "file_extension": ".py",
   "mimetype": "text/x-python",
   "name": "python",
   "nbconvert_exporter": "python",
   "pygments_lexer": "ipython2",
   "version": "2.7.14"
  }
 },
 "nbformat": 4,
 "nbformat_minor": 2
}
